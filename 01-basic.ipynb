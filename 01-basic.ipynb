{
 "cells": [
  {
   "cell_type": "code",
   "execution_count": 1,
   "metadata": {},
   "outputs": [],
   "source": [
    "import torch"
   ]
  },
  {
   "cell_type": "markdown",
   "metadata": {},
   "source": [
    "## Tensors\n",
    "A tensor is a number, vector, matrix or any n-dimensional array"
   ]
  },
  {
   "cell_type": "code",
   "execution_count": 10,
   "metadata": {},
   "outputs": [
    {
     "name": "stdout",
     "output_type": "stream",
     "text": [
      "dy/dx: None\n",
      "dy/dw: None\n",
      "dy/db: None\n"
     ]
    }
   ],
   "source": [
    "t1 = torch.tensor(4., dtype=torch.double) # number\n",
    "t2 = torch.tensor(5., requires_grad=True) # number\n",
    "t3 = torch.tensor(6., requires_grad=True) # number\n",
    "t1,t2,t3\n",
    "y = t1 * t2 + t3\n",
    "y\n",
    "y.backward() # 计算导数\n",
    "print('dy/dx:', t1.grad)\n",
    "print('dy/dw:', t2.grad)\n",
    "print('dy/db:', t3.grad)"
   ]
  },
  {
   "cell_type": "code",
   "execution_count": 17,
   "metadata": {},
   "outputs": [
    {
     "data": {
      "text/plain": [
       "array([[1., 2.],\n",
       "       [3., 4.]])"
      ]
     },
     "execution_count": 17,
     "metadata": {},
     "output_type": "execute_result"
    }
   ],
   "source": [
    "import numpy\n",
    "x = numpy.array([[1.,2.], [3.,4.]])\n",
    "y = torch.from_numpy(x)\n",
    "# x,y,x.dtype, y.dtype\n",
    "z = y.numpy()\n",
    "z"
   ]
  }
 ],
 "metadata": {
  "kernelspec": {
   "display_name": ".venv",
   "language": "python",
   "name": "python3"
  },
  "language_info": {
   "codemirror_mode": {
    "name": "ipython",
    "version": 3
   },
   "file_extension": ".py",
   "mimetype": "text/x-python",
   "name": "python",
   "nbconvert_exporter": "python",
   "pygments_lexer": "ipython3",
   "version": "3.10.12"
  }
 },
 "nbformat": 4,
 "nbformat_minor": 2
}
